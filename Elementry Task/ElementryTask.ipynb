{
 "cells": [
  {
   "cell_type": "code",
   "execution_count": 1,
   "id": "8f498546-667b-4a14-9383-de5df3103e48",
   "metadata": {},
   "outputs": [],
   "source": [
    "import pandas as pd\n",
    "import numpy as np\n",
    "from sklearn.preprocessing import MinMaxScaler\n"
   ]
  },
  {
   "cell_type": "code",
   "execution_count": 3,
   "id": "c93c9600-9f4a-486b-9393-657d5cb03848",
   "metadata": {},
   "outputs": [],
   "source": [
    "df = pd.read_csv(\"raw_dataset.csv\")\n"
   ]
  },
  {
   "cell_type": "code",
   "execution_count": 5,
   "id": "352ae101-f713-4c6d-8108-feb7bf131455",
   "metadata": {},
   "outputs": [],
   "source": [
    "df = df.drop_duplicates()\n"
   ]
  },
  {
   "cell_type": "code",
   "execution_count": 9,
   "id": "9a2f91e2-31be-44d3-b9eb-43dd81a0718e",
   "metadata": {},
   "outputs": [],
   "source": [
    "df[\"Age\"] = df[\"Age\"].fillna(df[\"Age\"].median())\n",
    "df[\"Salary\"] = df[\"Salary\"].fillna(df[\"Salary\"].median())\n",
    "df[\"Experience\"] = df[\"Experience\"].fillna(df[\"Experience\"].median())\n",
    "\n"
   ]
  },
  {
   "cell_type": "code",
   "execution_count": 11,
   "id": "1d14f483-5003-4821-8ece-ac3baab8ddd4",
   "metadata": {},
   "outputs": [],
   "source": [
    "df[\"Department\"] = df[\"Department\"].str.capitalize()\n"
   ]
  },
  {
   "cell_type": "code",
   "execution_count": 13,
   "id": "3b7d9518-98dd-487d-8ed2-f0859c7a7b88",
   "metadata": {},
   "outputs": [],
   "source": [
    "salary_cap = df[\"Salary\"].quantile(0.99)\n",
    "df[\"Salary\"] = np.where(df[\"Salary\"] > salary_cap, salary_cap, df[\"Salary\"])\n"
   ]
  },
  {
   "cell_type": "code",
   "execution_count": 15,
   "id": "ec345d1a-80d4-424a-83d9-9be0fbed94a0",
   "metadata": {},
   "outputs": [],
   "source": [
    "df[\"Joining_Date\"] = pd.to_datetime(df[\"Joining_Date\"], errors='coerce')\n"
   ]
  },
  {
   "cell_type": "code",
   "execution_count": 17,
   "id": "25ebc942-7f50-4a23-8b0d-a04a1c5138c7",
   "metadata": {},
   "outputs": [],
   "source": [
    "def experience_level(exp):\n",
    "    if exp < 5:\n",
    "        return \"Entry\"\n",
    "    elif exp < 15:\n",
    "        return \"Mid\"\n",
    "    else:\n",
    "        return \"Senior\"\n",
    "\n",
    "df[\"Experience_Level\"] = df[\"Experience\"].apply(experience_level)\n"
   ]
  },
  {
   "cell_type": "code",
   "execution_count": 19,
   "id": "ba1e544e-8468-4337-be5f-951be0a44598",
   "metadata": {},
   "outputs": [],
   "source": [
    "df[\"Salary\"] = MinMaxScaler().fit_transform(df[[\"Salary\"]])\n"
   ]
  },
  {
   "cell_type": "code",
   "execution_count": 21,
   "id": "a18e772d-71f4-49d6-a4b1-9f551bb5ad63",
   "metadata": {},
   "outputs": [
    {
     "name": "stdout",
     "output_type": "stream",
     "text": [
      "Data cleaning and processing completed. Cleaned file saved as cleaned_dataset.csv\n"
     ]
    }
   ],
   "source": [
    "df.to_csv(\"cleaned_dataset.csv\", index=False)\n",
    "print(\"Data cleaning and processing completed. Cleaned file saved as cleaned_dataset.csv\")\n"
   ]
  },
  {
   "cell_type": "code",
   "execution_count": 23,
   "id": "8c029365-7ac4-4e03-917e-1b5783d61319",
   "metadata": {},
   "outputs": [
    {
     "name": "stdout",
     "output_type": "stream",
     "text": [
      "   ID   Age    Salary  Experience Department Joining_Date Experience_Level\n",
      "0   1  54.0  0.143557        11.0  Marketing   2010-01-31              Mid\n",
      "1   2  46.0  0.137224         7.0      Sales   2010-02-28              Mid\n",
      "2   3  42.0  0.028849        19.0    Finance   2010-03-31           Senior\n",
      "3   4  21.0  0.046233         2.0      Sales   2010-04-30            Entry\n",
      "4   5  37.0  0.183630        15.0      Sales   2010-05-31           Senior\n"
     ]
    }
   ],
   "source": [
    "print(df.head())  \n"
   ]
  },
  {
   "cell_type": "code",
   "execution_count": 25,
   "id": "30e29186-3ed1-44c8-b4a2-f21772b84656",
   "metadata": {},
   "outputs": [
    {
     "name": "stdout",
     "output_type": "stream",
     "text": [
      "ID                  0\n",
      "Age                 0\n",
      "Salary              0\n",
      "Experience          0\n",
      "Department          0\n",
      "Joining_Date        0\n",
      "Experience_Level    0\n",
      "dtype: int64\n"
     ]
    }
   ],
   "source": [
    "print(df.isnull().sum())  # Miss value\n"
   ]
  },
  {
   "cell_type": "code",
   "execution_count": 27,
   "id": "2da6d0b0-d098-4e87-a148-22f7ebcaf039",
   "metadata": {},
   "outputs": [
    {
     "data": {
      "text/html": [
       "<div>\n",
       "<style scoped>\n",
       "    .dataframe tbody tr th:only-of-type {\n",
       "        vertical-align: middle;\n",
       "    }\n",
       "\n",
       "    .dataframe tbody tr th {\n",
       "        vertical-align: top;\n",
       "    }\n",
       "\n",
       "    .dataframe thead th {\n",
       "        text-align: right;\n",
       "    }\n",
       "</style>\n",
       "<table border=\"1\" class=\"dataframe\">\n",
       "  <thead>\n",
       "    <tr style=\"text-align: right;\">\n",
       "      <th></th>\n",
       "      <th>ID</th>\n",
       "      <th>Age</th>\n",
       "      <th>Salary</th>\n",
       "      <th>Experience</th>\n",
       "      <th>Department</th>\n",
       "      <th>Joining_Date</th>\n",
       "      <th>Experience_Level</th>\n",
       "    </tr>\n",
       "  </thead>\n",
       "  <tbody>\n",
       "    <tr>\n",
       "      <th>0</th>\n",
       "      <td>1</td>\n",
       "      <td>54.0</td>\n",
       "      <td>0.143557</td>\n",
       "      <td>11.0</td>\n",
       "      <td>Marketing</td>\n",
       "      <td>2010-01-31</td>\n",
       "      <td>Mid</td>\n",
       "    </tr>\n",
       "    <tr>\n",
       "      <th>1</th>\n",
       "      <td>2</td>\n",
       "      <td>46.0</td>\n",
       "      <td>0.137224</td>\n",
       "      <td>7.0</td>\n",
       "      <td>Sales</td>\n",
       "      <td>2010-02-28</td>\n",
       "      <td>Mid</td>\n",
       "    </tr>\n",
       "    <tr>\n",
       "      <th>2</th>\n",
       "      <td>3</td>\n",
       "      <td>42.0</td>\n",
       "      <td>0.028849</td>\n",
       "      <td>19.0</td>\n",
       "      <td>Finance</td>\n",
       "      <td>2010-03-31</td>\n",
       "      <td>Senior</td>\n",
       "    </tr>\n",
       "    <tr>\n",
       "      <th>3</th>\n",
       "      <td>4</td>\n",
       "      <td>21.0</td>\n",
       "      <td>0.046233</td>\n",
       "      <td>2.0</td>\n",
       "      <td>Sales</td>\n",
       "      <td>2010-04-30</td>\n",
       "      <td>Entry</td>\n",
       "    </tr>\n",
       "    <tr>\n",
       "      <th>4</th>\n",
       "      <td>5</td>\n",
       "      <td>37.0</td>\n",
       "      <td>0.183630</td>\n",
       "      <td>15.0</td>\n",
       "      <td>Sales</td>\n",
       "      <td>2010-05-31</td>\n",
       "      <td>Senior</td>\n",
       "    </tr>\n",
       "  </tbody>\n",
       "</table>\n",
       "</div>"
      ],
      "text/plain": [
       "   ID   Age    Salary  Experience Department Joining_Date Experience_Level\n",
       "0   1  54.0  0.143557        11.0  Marketing   2010-01-31              Mid\n",
       "1   2  46.0  0.137224         7.0      Sales   2010-02-28              Mid\n",
       "2   3  42.0  0.028849        19.0    Finance   2010-03-31           Senior\n",
       "3   4  21.0  0.046233         2.0      Sales   2010-04-30            Entry\n",
       "4   5  37.0  0.183630        15.0      Sales   2010-05-31           Senior"
      ]
     },
     "execution_count": 27,
     "metadata": {},
     "output_type": "execute_result"
    }
   ],
   "source": [
    "df.head() "
   ]
  },
  {
   "cell_type": "code",
   "execution_count": null,
   "id": "dd7833e7-b114-46ad-a0c3-a37aa940f9b8",
   "metadata": {},
   "outputs": [],
   "source": []
  }
 ],
 "metadata": {
  "kernelspec": {
   "display_name": "Python 3 (ipykernel)",
   "language": "python",
   "name": "python3"
  },
  "language_info": {
   "codemirror_mode": {
    "name": "ipython",
    "version": 3
   },
   "file_extension": ".py",
   "mimetype": "text/x-python",
   "name": "python",
   "nbconvert_exporter": "python",
   "pygments_lexer": "ipython3",
   "version": "3.12.7"
  }
 },
 "nbformat": 4,
 "nbformat_minor": 5
}
